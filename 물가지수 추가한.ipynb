{
 "cells": [
  {
   "cell_type": "code",
   "execution_count": 1,
   "id": "ef5eb0f0-1cdb-42dd-8916-b2776d29256f",
   "metadata": {},
   "outputs": [
    {
     "name": "stdout",
     "output_type": "stream",
     "text": [
      "        모델     MAE    RMSE\n",
      "0    선형 회귀  471.17  790.89\n",
      "1  랜덤 포레스트  529.15  727.56\n"
     ]
    }
   ],
   "source": [
    "import pandas as pd\n",
    "import numpy as np\n",
    "from sklearn.model_selection import train_test_split\n",
    "from sklearn.preprocessing import StandardScaler\n",
    "from sklearn.linear_model import LinearRegression\n",
    "from sklearn.ensemble import RandomForestRegressor\n",
    "from sklearn.metrics import mean_absolute_error, mean_squared_error\n",
    "\n",
    "# 데이터 불러오기\n",
    "df = pd.read_csv('통합데이터_세종제거.csv')\n",
    "\n",
    "# 수치형으로 변환 (문자열 → NaN)\n",
    "df = df.apply(pd.to_numeric, errors='coerce')\n",
    "\n",
    "# 결측치 비율이 40% 이상인 열 제거\n",
    "threshold = 0.4\n",
    "df = df.loc[:, df.isnull().mean() < threshold]\n",
    "\n",
    "# 결측치 있는 행 제거\n",
    "df.dropna(inplace=True)\n",
    "\n",
    "# 타깃 컬럼 지정\n",
    "target_col = '인당소비_민간소비지출액(천원)'\n",
    "if target_col not in df.columns:\n",
    "    raise KeyError(f\"{target_col} 컬럼이 존재하지 않습니다.\")\n",
    "\n",
    "# 특성과 타깃 분리\n",
    "X = df.drop(columns=[target_col])\n",
    "y = df[target_col]\n",
    "\n",
    "# 데이터 정규화\n",
    "scaler = StandardScaler()\n",
    "X_scaled = scaler.fit_transform(X)\n",
    "\n",
    "# 학습/테스트 분리\n",
    "X_train, X_test, y_train, y_test = train_test_split(X_scaled, y, test_size=0.2, random_state=42)\n",
    "\n",
    "# 모델 정의 및 학습\n",
    "models = {\n",
    "    \"선형 회귀\": LinearRegression(),\n",
    "    \"랜덤 포레스트\": RandomForestRegressor(random_state=42)\n",
    "}\n",
    "\n",
    "results = []\n",
    "for name, model in models.items():\n",
    "    model.fit(X_train, y_train)\n",
    "    preds = model.predict(X_test)\n",
    "    mae = mean_absolute_error(y_test, preds)\n",
    "    mse = mean_squared_error(y_test, preds)\n",
    "    rmse = np.sqrt(mse)\n",
    "    results.append((name, round(mae, 2), round(rmse, 2)))\n",
    "\n",
    "# 결과 출력\n",
    "results_df = pd.DataFrame(results, columns=[\"모델\", \"MAE\", \"RMSE\"])\n",
    "print(results_df)\n"
   ]
  },
  {
   "cell_type": "code",
   "execution_count": null,
   "id": "3d391c88-b79e-4c40-b7ae-0afaa3097079",
   "metadata": {},
   "outputs": [],
   "source": []
  }
 ],
 "metadata": {
  "kernelspec": {
   "display_name": "Python 3 (ipykernel)",
   "language": "python",
   "name": "python3"
  },
  "language_info": {
   "codemirror_mode": {
    "name": "ipython",
    "version": 3
   },
   "file_extension": ".py",
   "mimetype": "text/x-python",
   "name": "python",
   "nbconvert_exporter": "python",
   "pygments_lexer": "ipython3",
   "version": "3.12.7"
  }
 },
 "nbformat": 4,
 "nbformat_minor": 5
}
