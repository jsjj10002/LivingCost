{
 "cells": [
  {
   "cell_type": "code",
   "execution_count": null,
   "id": "ac23eb29-6e95-46c4-b7bb-f8701ff7f9a3",
   "metadata": {},
   "outputs": [],
   "source": []
  }
 ],
 "metadata": {
  "kernelspec": {
   "display_name": "",
   "name": ""
  },
  "language_info": {
   "name": ""
  }
 },
 "nbformat": 4,
 "nbformat_minor": 5
}
