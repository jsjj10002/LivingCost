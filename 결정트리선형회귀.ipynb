{
 "cells": [
  {
   "cell_type": "code",
   "execution_count": 1,
   "id": "4e3d33d7-f861-4fa6-b3df-5accf86dc3dc",
   "metadata": {},
   "outputs": [
    {
     "name": "stdout",
     "output_type": "stream",
     "text": [
      "[선형 회귀] R²: -7.8132, RMSE: 7413.76\n",
      "[결정 트리] R²: -0.0458, RMSE: 2553.89\n"
     ]
    },
    {
     "name": "stderr",
     "output_type": "stream",
     "text": [
      "C:\\Users\\user\\AppData\\Local\\Temp\\ipykernel_23472\\2673248139.py:61: FutureWarning: \n",
      "\n",
      "Passing `palette` without assigning `hue` is deprecated and will be removed in v0.14.0. Assign the `y` variable to `hue` and set `legend=False` for the same effect.\n",
      "\n",
      "  sns.barplot(data=coef_df.head(10), x=\"회귀계수\", y=\"변수\", palette=\"coolwarm\")\n",
      "C:\\Users\\user\\AppData\\Local\\Temp\\ipykernel_23472\\2673248139.py:74: FutureWarning: \n",
      "\n",
      "Passing `palette` without assigning `hue` is deprecated and will be removed in v0.14.0. Assign the `y` variable to `hue` and set `legend=False` for the same effect.\n",
      "\n",
      "  sns.barplot(data=imp_df.head(10), x=\"중요도\", y=\"변수\", palette=\"YlGnBu\")\n"
     ]
    }
   ],
   "source": [
    "import pandas as pd\n",
    "import numpy as np\n",
    "import matplotlib.pyplot as plt\n",
    "from sklearn.model_selection import train_test_split\n",
    "from sklearn.linear_model import LinearRegression\n",
    "from sklearn.tree import DecisionTreeRegressor\n",
    "from sklearn.metrics import r2_score, mean_squared_error\n",
    "import seaborn as sns\n",
    "\n",
    "# 한글 폰트 설정\n",
    "plt.rcParams[\"font.family\"] = \"Malgun Gothic\"  # 윈도우 기준\n",
    "plt.rcParams[\"axes.unicode_minus\"] = False\n",
    "\n",
    "# 데이터 불러오기\n",
    "df = pd.read_csv(\"통합데이터_출처정리완료.csv\", encoding=\"utf-8\")\n",
    "\n",
    "# 타겟 및 피처 선택\n",
    "target_col = \"인당소득_1인당 민간소비\"\n",
    "X = df.drop(columns=[target_col])\n",
    "y = df[target_col]\n",
    "\n",
    "# 숫자형 컬럼만 선택 (선형 회귀 및 결정 트리에서 NaN, 문자형 에러 방지)\n",
    "X = X.select_dtypes(include=[np.number]).dropna(axis=1)\n",
    "y = y.astype(float)\n",
    "\n",
    "# 학습/테스트 분할\n",
    "X_train, X_test, y_train, y_test = train_test_split(X, y, test_size=0.2, random_state=42)\n",
    "\n",
    "# 모델 학습\n",
    "lr_model = LinearRegression()\n",
    "lr_model.fit(X_train, y_train)\n",
    "lr_preds = lr_model.predict(X_test)\n",
    "\n",
    "tree_model = DecisionTreeRegressor(max_depth=5, random_state=42)\n",
    "tree_model.fit(X_train, y_train)\n",
    "tree_preds = tree_model.predict(X_test)\n",
    "\n",
    "# 평가지표 출력\n",
    "lr_rmse = np.sqrt(mean_squared_error(y_test, lr_preds))\n",
    "tree_rmse = np.sqrt(mean_squared_error(y_test, tree_preds))\n",
    "\n",
    "print(f\"[선형 회귀] R²: {r2_score(y_test, lr_preds):.4f}, RMSE: {lr_rmse:.2f}\")\n",
    "print(f\"[결정 트리] R²: {r2_score(y_test, tree_preds):.4f}, RMSE: {tree_rmse:.2f}\")\n",
    "\n",
    "# 결과 저장\n",
    "results_df = pd.DataFrame({\n",
    "    \"모델\": [\"선형 회귀\", \"결정 트리\"],\n",
    "    \"R²\": [r2_score(y_test, lr_preds), r2_score(y_test, tree_preds)],\n",
    "    \"RMSE\": [lr_rmse, tree_rmse]\n",
    "})\n",
    "results_df.to_csv(\"모델_성능_평가_결과.csv\", index=False, encoding=\"utf-8-sig\")\n",
    "\n",
    "# 변수 중요도 시각화 및 저장\n",
    "# 선형 회귀 계수\n",
    "coef_df = pd.DataFrame({\n",
    "    \"변수\": X.columns,\n",
    "    \"회귀계수\": lr_model.coef_\n",
    "}).sort_values(by=\"회귀계수\", key=np.abs, ascending=False)\n",
    "\n",
    "plt.figure(figsize=(10, 6))\n",
    "sns.barplot(data=coef_df.head(10), x=\"회귀계수\", y=\"변수\", palette=\"coolwarm\")\n",
    "plt.title(\"선형 회귀: 가장 영향력 있는 변수 (상위 10개)\")\n",
    "plt.tight_layout()\n",
    "plt.savefig(\"선형회귀_변수중요도.png\")\n",
    "plt.close()\n",
    "\n",
    "# 결정 트리 중요도\n",
    "imp_df = pd.DataFrame({\n",
    "    \"변수\": X.columns,\n",
    "    \"중요도\": tree_model.feature_importances_\n",
    "}).sort_values(by=\"중요도\", ascending=False)\n",
    "\n",
    "plt.figure(figsize=(10, 6))\n",
    "sns.barplot(data=imp_df.head(10), x=\"중요도\", y=\"변수\", palette=\"YlGnBu\")\n",
    "plt.title(\"결정 트리: 가장 영향력 있는 변수 (상위 10개)\")\n",
    "plt.tight_layout()\n",
    "plt.savefig(\"결정트리_변수중요도.png\")\n",
    "plt.close()\n"
   ]
  },
  {
   "cell_type": "code",
   "execution_count": null,
   "id": "65e18fbf-f22a-413a-b96e-b64cc7bd0301",
   "metadata": {},
   "outputs": [],
   "source": []
  }
 ],
 "metadata": {
  "kernelspec": {
   "display_name": "Python 3 (ipykernel)",
   "language": "python",
   "name": "python3"
  },
  "language_info": {
   "codemirror_mode": {
    "name": "ipython",
    "version": 3
   },
   "file_extension": ".py",
   "mimetype": "text/x-python",
   "name": "python",
   "nbconvert_exporter": "python",
   "pygments_lexer": "ipython3",
   "version": "3.12.7"
  }
 },
 "nbformat": 4,
 "nbformat_minor": 5
}
