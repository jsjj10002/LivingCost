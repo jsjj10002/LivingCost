{
 "cells": [
  {
   "cell_type": "code",
   "execution_count": 2,
   "metadata": {},
   "outputs": [
    {
     "name": "stdout",
     "output_type": "stream",
     "text": [
      "현재 워킹 디렉토리: c:\\Users\\user\\Project\\AIProject\\data\n"
     ]
    }
   ],
   "source": [
    "import os\n",
    "\n",
    "# 워킹 디렉토리를 ../data로 설정\n",
    "data_dir = os.path.expanduser(\"../data\")\n",
    "os.chdir(data_dir)\n",
    "\n",
    "# 현재 워킹 디렉토리 확인\n",
    "print(f\"현재 워킹 디렉토리: {os.getcwd()}\")"
   ]
  },
  {
   "cell_type": "markdown",
   "metadata": {},
   "source": [
    "## 상가(상권)정보 분석 \n",
    "\n",
    "- 분석 대상: 상가(상권)정보_03.csv, 상가(상권)정보_06.csv, 상가(상권)정보_09.csv, 상가(상권)정보_12.csv,\n",
    "\n",
    "- 칼럼 명: 상가업소번호,상호명,지점명,상권업종대분류코드,상권업종대분류명,상권업종중분류코드,상권업종중분류명,상권업종소분류코드,상권업종소분류명,표준산업분류코드,표준산업분류명,시도코드,시도명,시군구코드,시군구명,행정동코드,행정동명,법정동코드,법정동명,지번코드,대지구분코드,대지구분명,지번본번지,지번부번지,지번주소,도로명코드,도로명,건물본번지,건물부번지,건물관리번호,건물명,도로명주소,구우편번호,신우편번호,동정보,층정보,호정보,경도,위도"
   ]
  }
 ],
 "metadata": {
  "kernelspec": {
   "display_name": "base",
   "language": "python",
   "name": "python3"
  },
  "language_info": {
   "codemirror_mode": {
    "name": "ipython",
    "version": 3
   },
   "file_extension": ".py",
   "mimetype": "text/x-python",
   "name": "python",
   "nbconvert_exporter": "python",
   "pygments_lexer": "ipython3",
   "version": "3.12.7"
  }
 },
 "nbformat": 4,
 "nbformat_minor": 2
}
